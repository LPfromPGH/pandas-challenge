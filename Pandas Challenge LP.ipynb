{
 "cells": [
  {
   "cell_type": "code",
   "execution_count": 34,
   "id": "30cfe6c1",
   "metadata": {},
   "outputs": [
    {
     "name": "stdout",
     "output_type": "stream",
     "text": [
      "<class 'pandas.core.frame.DataFrame'>\n",
      "Int64Index: 39170 entries, 0 to 39169\n",
      "Data columns (total 11 columns):\n",
      " #   Column         Non-Null Count  Dtype \n",
      "---  ------         --------------  ----- \n",
      " 0   Student ID     39170 non-null  int64 \n",
      " 1   student_name   39170 non-null  object\n",
      " 2   gender         39170 non-null  object\n",
      " 3   grade          39170 non-null  object\n",
      " 4   school_name    39170 non-null  object\n",
      " 5   reading_score  39170 non-null  int64 \n",
      " 6   math_score     39170 non-null  int64 \n",
      " 7   School ID      39170 non-null  int64 \n",
      " 8   type           39170 non-null  object\n",
      " 9   size           39170 non-null  int64 \n",
      " 10  budget         39170 non-null  int64 \n",
      "dtypes: int64(6), object(5)\n",
      "memory usage: 3.6+ MB\n"
     ]
    }
   ],
   "source": [
    "#Load Libs, Find files, Read files\n",
    "\n",
    "import pandas as pd\n",
    "from pathlib import Path\n",
    "schdatload = Path(\"Resources\\schools_complete.csv\")\n",
    "studatload = Path(\"Resources\\students_complete.csv\")\n",
    "\n",
    "schdat = pd.read_csv(schdatload)\n",
    "studat = pd.read_csv(studatload)\n",
    "\n",
    "schdatcomp = pd.merge(studat, schdat, how=\"left\", on=[\"school_name\", \"school_name\"])\n",
    "schdatcomp.head()\n",
    "schdatcomp.info()"
   ]
  },
  {
   "cell_type": "code",
   "execution_count": 35,
   "id": "ae5e095a",
   "metadata": {},
   "outputs": [
    {
     "data": {
      "text/plain": [
       "school_name          \n",
       "Bailey High School       4976\n",
       "Johnson High School      4761\n",
       "Hernandez High School    4635\n",
       "Rodriguez High School    3999\n",
       "Figueroa High School     2949\n",
       "Huang High School        2917\n",
       "Ford High School         2739\n",
       "Wilson High School       2283\n",
       "Cabrera High School      1858\n",
       "Wright High School       1800\n",
       "Shelton High School      1761\n",
       "Thomas High School       1635\n",
       "Griffin High School      1468\n",
       "Pena High School          962\n",
       "Holden High School        427\n",
       "dtype: int64"
      ]
     },
     "execution_count": 35,
     "metadata": {},
     "output_type": "execute_result"
    }
   ],
   "source": [
    "#Get the school count\n",
    "schcnt = schdatcomp.value_counts([\"school_name\"])\n",
    "schcnt"
   ]
  },
  {
   "cell_type": "code",
   "execution_count": 36,
   "id": "c4b112aa",
   "metadata": {},
   "outputs": [
    {
     "data": {
      "text/plain": [
       "39170"
      ]
     },
     "execution_count": 36,
     "metadata": {},
     "output_type": "execute_result"
    }
   ],
   "source": [
    "#Get the student count\n",
    "stucnt = len(schdatcomp)\n",
    "stucnt"
   ]
  },
  {
   "cell_type": "code",
   "execution_count": 49,
   "id": "8126448d",
   "metadata": {},
   "outputs": [
    {
     "name": "stdout",
     "output_type": "stream",
     "text": [
      "24649428\n"
     ]
    }
   ],
   "source": [
    "#Total budget\n",
    "totbud = schdatcomp['budget'].unique()\n",
    "#print(totbud)\n",
    "sumbud = totbud.sum()\n",
    "print(sumbud)"
   ]
  },
  {
   "cell_type": "code",
   "execution_count": 51,
   "id": "485c0f44",
   "metadata": {},
   "outputs": [
    {
     "name": "stdout",
     "output_type": "stream",
     "text": [
      "78.98537145774827\n"
     ]
    }
   ],
   "source": [
    "#Average math score\n",
    "avgmath = schdatcomp['math_score'].mean()\n",
    "print(avgmath)"
   ]
  },
  {
   "cell_type": "code",
   "execution_count": 52,
   "id": "6ba91779",
   "metadata": {},
   "outputs": [
    {
     "name": "stdout",
     "output_type": "stream",
     "text": [
      "81.87784018381414\n"
     ]
    }
   ],
   "source": [
    "#Average reading score\n",
    "avgread = schdatcomp['reading_score'].mean()\n",
    "print(avgread)"
   ]
  },
  {
   "cell_type": "code",
   "execution_count": 55,
   "id": "3871f054",
   "metadata": {},
   "outputs": [
    {
     "name": "stdout",
     "output_type": "stream",
     "text": [
      "29370\n",
      "74.9808526933878\n"
     ]
    }
   ],
   "source": [
    "#Math Passers\n",
    "passmath = schdatcomp[(schdatcomp[\"math_score\"] >= 70)].count()[\"student_name\"]\n",
    "print(passmath)\n",
    "passmathper = passmath / float(stucnt) * 100\n",
    "print(passmathper)"
   ]
  },
  {
   "cell_type": "code",
   "execution_count": 57,
   "id": "44f5ac1b",
   "metadata": {},
   "outputs": [
    {
     "name": "stdout",
     "output_type": "stream",
     "text": [
      "33610\n",
      "85.80546336482001\n"
     ]
    }
   ],
   "source": [
    "#What you readin for?\n",
    "passread = schdatcomp[(schdatcomp[\"reading_score\"] >= 70)].count()[\"student_name\"]\n",
    "print(passread)\n",
    "passreadper = passread / float(stucnt) * 100\n",
    "print(passreadper)"
   ]
  },
  {
   "cell_type": "code",
   "execution_count": 61,
   "id": "c6307350",
   "metadata": {},
   "outputs": [
    {
     "name": "stdout",
     "output_type": "stream",
     "text": [
      "25528\n",
      "65.17232575950983\n"
     ]
    }
   ],
   "source": [
    "# Passin both\n",
    "mathreadcnt = schdatcomp[(schdatcomp[\"math_score\"] >= 70) & (schdatcomp[\"reading_score\"] >= 70)].count()[\"student_name\"]\n",
    "print(mathreadcnt)\n",
    "mathreadavg = mathreadcnt / float(stucnt) * 100\n",
    "print(mathreadavg)"
   ]
  },
  {
   "cell_type": "code",
   "execution_count": null,
   "id": "e291f3c3",
   "metadata": {},
   "outputs": [],
   "source": [
    "distsum = ([])"
   ]
  }
 ],
 "metadata": {
  "kernelspec": {
   "display_name": "Python 3 (ipykernel)",
   "language": "python",
   "name": "python3"
  },
  "language_info": {
   "codemirror_mode": {
    "name": "ipython",
    "version": 3
   },
   "file_extension": ".py",
   "mimetype": "text/x-python",
   "name": "python",
   "nbconvert_exporter": "python",
   "pygments_lexer": "ipython3",
   "version": "3.10.9"
  }
 },
 "nbformat": 4,
 "nbformat_minor": 5
}
